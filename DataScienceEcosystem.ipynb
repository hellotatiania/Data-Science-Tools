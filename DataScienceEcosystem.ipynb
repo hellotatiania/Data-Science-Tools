{
 "cells": [
  {
   "cell_type": "markdown",
   "id": "9c556b4d-7290-4ff9-be71-149c6456dd06",
   "metadata": {},
   "source": [
    "# Data Science Tools and Ecosystem"
   ]
  },
  {
   "cell_type": "markdown",
   "id": "8cadcb4c-63a9-4fe0-8b3f-1411f3c1986a",
   "metadata": {},
   "source": [
    "## Author\n",
    "Tatiania Rasic"
   ]
  },
  {
   "cell_type": "markdown",
   "id": "b2085dd7-3260-4893-9914-83b1a79f6273",
   "metadata": {},
   "source": [
    "In this notebook, Data Science Tools and Ecosystems are summarized."
   ]
  },
  {
   "cell_type": "markdown",
   "id": "84919852-83ba-42fd-95d5-0cd97c949531",
   "metadata": {},
   "source": [
    "**Objectives**        \n",
    "Some of the key takeaways from the course are:\n",
    "* Learning the popular languages used by Data Scientists\n",
    "* Learning the commonly used libraries used by Data Scientists\n",
    "* Exploring open source tools used in data science\n",
    "* Learning to use Python for simple arithmetic expressions\n"
   ]
  },
  {
   "cell_type": "markdown",
   "id": "aafb6a13-3abc-4eaf-a45f-5e770a0a1a0d",
   "metadata": {
    "tags": []
   },
   "source": [
    " Some of the popular languages that Data Scientists use are \n",
    "1. Python\n",
    "2. R\n",
    "3. SQL\n",
    "4. Scala\n",
    "5. Java\n",
    "6. C++\n",
    "7. Julia"
   ]
  },
  {
   "cell_type": "markdown",
   "id": "f57974b8-4cf7-4c89-9b9f-749ef2249cdd",
   "metadata": {},
   "source": [
    "Some of the commonly used libraries used by Data Scientists include:\n",
    "1. Pandas\n",
    "2. NumPy\n",
    "3. Matplotlibs\n",
    "4. Seaborn\n",
    "5. Scikit-learn\n",
    "6. Keras\n",
    "7. TensorFlow\n",
    "8. PyTorch"
   ]
  },
  {
   "cell_type": "markdown",
   "id": "7a3f6f54-ddf6-472c-a321-245d18df8a1e",
   "metadata": {
    "tags": []
   },
   "source": [
    "|Data Science Tools|\n",
    "----\n",
    "|Jupyter Notebook|\n",
    "|RStudio|\n",
    "|GitHub|"
   ]
  },
  {
   "cell_type": "markdown",
   "id": "a8a5b274-ffe0-43e8-85ec-43730c415fff",
   "metadata": {},
   "source": [
    "### Below are a few examples of evaluating arithmetic expressions in Python."
   ]
  },
  {
   "cell_type": "code",
   "execution_count": 7,
   "id": "4b3a50c6-90d1-45c5-8ba4-a8bc8665d178",
   "metadata": {
    "tags": []
   },
   "outputs": [
    {
     "data": {
      "text/plain": [
       "17"
      ]
     },
     "execution_count": 7,
     "metadata": {},
     "output_type": "execute_result"
    }
   ],
   "source": [
    "# This is a simple arithmetic expression to multiply then add integers.\n",
    "(3*4)+5"
   ]
  },
  {
   "cell_type": "code",
   "execution_count": 9,
   "id": "a3730f0f-e1fa-468b-a42d-6a4d238c178c",
   "metadata": {
    "tags": []
   },
   "outputs": [
    {
     "data": {
      "text/plain": [
       "3.3333333333333335"
      ]
     },
     "execution_count": 9,
     "metadata": {},
     "output_type": "execute_result"
    }
   ],
   "source": [
    "# This will convert 200 minutes to hours by dividing by 60.\n",
    "minutes=200\n",
    "hr=200/60\n",
    "hr"
   ]
  }
 ],
 "metadata": {
  "kernelspec": {
   "display_name": "Python",
   "language": "python",
   "name": "conda-env-python-py"
  },
  "language_info": {
   "codemirror_mode": {
    "name": "ipython",
    "version": 3
   },
   "file_extension": ".py",
   "mimetype": "text/x-python",
   "name": "python",
   "nbconvert_exporter": "python",
   "pygments_lexer": "ipython3",
   "version": "3.7.12"
  }
 },
 "nbformat": 4,
 "nbformat_minor": 5
}
